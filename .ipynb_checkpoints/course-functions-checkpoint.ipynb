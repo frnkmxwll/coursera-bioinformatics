{
 "cells": [
  {
   "cell_type": "code",
   "execution_count": 87,
   "id": "db47498f",
   "metadata": {},
   "outputs": [],
   "source": [
    "# Import text from URL text file\n",
    "import urllib.request\n",
    "\n",
    "# Progress bar functionality\n",
    "from tqdm import trange\n",
    "from time import sleep\n",
    "# use trange instead of range\n",
    "# add sleep(0.25) to for loop"
   ]
  },
  {
   "cell_type": "code",
   "execution_count": 76,
   "id": "8c7807a3",
   "metadata": {},
   "outputs": [],
   "source": [
    "def update_progress(progress):\n",
    "    bar_length = 20\n",
    "    if isinstance(progress, int):\n",
    "        progress = float(progress)\n",
    "    if not isinstance(progress, float):\n",
    "        progress = 0\n",
    "    if progress < 0:\n",
    "        progress = 0\n",
    "    if progress >= 1:\n",
    "        progress = 1\n",
    "\n",
    "    block = int(round(bar_length * progress))"
   ]
  },
  {
   "cell_type": "code",
   "execution_count": 88,
   "id": "e2d2f810",
   "metadata": {},
   "outputs": [],
   "source": [
    "#Functions used in course\n",
    "#https://www.coursera.org/learn/bioinformatics/home/welcome\n",
    "\n",
    "### Part 1.2 funcion to count occurences of a pattern in given text.\n",
    "\n",
    "# return the number of occurences of \"Pattern\" in \"Text\"\n",
    "def PatternCount(Text, Pattern):\n",
    "    count = 0\n",
    "    for i in range(len(Text) - len(Pattern)+1):\n",
    "        if(Text[i:i+len(Pattern)] == Pattern):\n",
    "            count += 1\n",
    "    return count\n",
    "\n",
    "# return a dictionary with keys of all k-mers, and values of their occurences in Text\n",
    "def FrequencyMap(Text, k):\n",
    "    freq = {}\n",
    "    n = len(Text)\n",
    "    for i in range (n-k+1):\n",
    "        Pattern = Text[i:i+k]\n",
    "        freq[Pattern] = PatternCount(Text, Pattern)\n",
    "    return freq\n",
    "\n",
    "# return the k-mer with the highest frequency in Text\n",
    "def FrequentWords(Text, k):\n",
    "    words = []\n",
    "    freq = FrequencyMap(Text, k)\n",
    "    m = max(freq.values())\n",
    "    for key in freq:\n",
    "        if (freq[key]==m):\n",
    "            words.append(key)\n",
    "    return words\n",
    "\n",
    "# return the reverse of \"Pattern\"\n",
    "def Reverse(Pattern):\n",
    "    rev = \"\"\n",
    "    for char in Pattern:\n",
    "        rev = char + rev\n",
    "    return rev\n",
    "\n",
    "# return the complement of Pattern based on ATCG base pairing\n",
    "def Complement(Pattern):\n",
    "    comp = \"\"\n",
    "    for char in Pattern:\n",
    "        if char == \"A\":\n",
    "            comp = comp + \"T\"\n",
    "        if char == \"T\":\n",
    "            comp = comp + \"A\"\n",
    "        if char == \"C\":\n",
    "            comp = comp + \"G\"\n",
    "        if char == \"G\":\n",
    "            comp = comp + \"C\"\n",
    "    return comp\n",
    "\n",
    "# return the reverse complement\n",
    "def ReverseComplement(Pattern):\n",
    "    rev = \"\"\n",
    "    rev = Reverse(Pattern)\n",
    "    rev_comp = Complement(rev)\n",
    "    return rev_comp\n",
    "\n",
    "# return the positions in the genome where \"pattern\" is found\n",
    "def PatternMatching(Pattern, Genome):\n",
    "    positions = [] # output variable\n",
    "    for i in range(len(Genome) - len(Pattern)+1):\n",
    "        if(Genome[i:i+len(Pattern)] == Pattern):\n",
    "            positions.append(i)\n",
    "    return positions\n",
    "\n",
    "# Note this function is VERY slow: 3 iterations / sec\n",
    "def FindClumps(Genome, k, L, t):    \n",
    "    count = 0\n",
    "    freq = {}\n",
    "    final_list = {}\n",
    "    for i in trange(len(Genome) - L+1):\n",
    "       \n",
    "        freq = FrequencyMap(Genome[i:i+L],k)\n",
    "        freq = dict((key,val) for key, val in freq.items() if val >= t)\n",
    "        final_list.update(freq)\n",
    "        sleep(0.25)\n",
    "    final_list = sorted(final_list.items(), key=lambda x: (x[0],x[1]), reverse = True)\n",
    "    return final_list"
   ]
  },
  {
   "cell_type": "code",
   "execution_count": 78,
   "id": "1bf95ea1",
   "metadata": {},
   "outputs": [],
   "source": [
    "Genome = urllib.request.urlopen('https://bioinformaticsalgorithms.com/data/realdatasets/Replication/Vibrio_cholerae.txt')#.read(20000)\n",
    "Genome = Genome.read().decode('utf-8')\n",
    "L = 500\n",
    "t = 3\n",
    "k = 9"
   ]
  },
  {
   "cell_type": "code",
   "execution_count": 89,
   "id": "a66cfe7d",
   "metadata": {},
   "outputs": [
    {
     "name": "stderr",
     "output_type": "stream",
     "text": [
      "  0%|                                                                         | 293/1107751 [01:25<89:21:11,  3.44it/s]\n"
     ]
    },
    {
     "ename": "KeyboardInterrupt",
     "evalue": "",
     "output_type": "error",
     "traceback": [
      "\u001b[1;31m---------------------------------------------------------------------------\u001b[0m",
      "\u001b[1;31mKeyboardInterrupt\u001b[0m                         Traceback (most recent call last)",
      "\u001b[1;32m~\\AppData\\Local\\Temp/ipykernel_4140/963714468.py\u001b[0m in \u001b[0;36m<module>\u001b[1;34m\u001b[0m\n\u001b[1;32m----> 1\u001b[1;33m \u001b[0mprint\u001b[0m\u001b[1;33m(\u001b[0m\u001b[0mFindClumps\u001b[0m\u001b[1;33m(\u001b[0m\u001b[0mGenome\u001b[0m\u001b[1;33m,\u001b[0m \u001b[0mk\u001b[0m\u001b[1;33m,\u001b[0m \u001b[0mL\u001b[0m\u001b[1;33m,\u001b[0m \u001b[0mt\u001b[0m\u001b[1;33m)\u001b[0m\u001b[1;33m)\u001b[0m\u001b[1;33m\u001b[0m\u001b[1;33m\u001b[0m\u001b[0m\n\u001b[0m",
      "\u001b[1;32m~\\AppData\\Local\\Temp/ipykernel_4140/2372599011.py\u001b[0m in \u001b[0;36mFindClumps\u001b[1;34m(Genome, k, L, t)\u001b[0m\n\u001b[0;32m     76\u001b[0m         \u001b[0mfreq\u001b[0m \u001b[1;33m=\u001b[0m \u001b[0mdict\u001b[0m\u001b[1;33m(\u001b[0m\u001b[1;33m(\u001b[0m\u001b[0mkey\u001b[0m\u001b[1;33m,\u001b[0m\u001b[0mval\u001b[0m\u001b[1;33m)\u001b[0m \u001b[1;32mfor\u001b[0m \u001b[0mkey\u001b[0m\u001b[1;33m,\u001b[0m \u001b[0mval\u001b[0m \u001b[1;32min\u001b[0m \u001b[0mfreq\u001b[0m\u001b[1;33m.\u001b[0m\u001b[0mitems\u001b[0m\u001b[1;33m(\u001b[0m\u001b[1;33m)\u001b[0m \u001b[1;32mif\u001b[0m \u001b[0mval\u001b[0m \u001b[1;33m>=\u001b[0m \u001b[0mt\u001b[0m\u001b[1;33m)\u001b[0m\u001b[1;33m\u001b[0m\u001b[1;33m\u001b[0m\u001b[0m\n\u001b[0;32m     77\u001b[0m         \u001b[0mfinal_list\u001b[0m\u001b[1;33m.\u001b[0m\u001b[0mupdate\u001b[0m\u001b[1;33m(\u001b[0m\u001b[0mfreq\u001b[0m\u001b[1;33m)\u001b[0m\u001b[1;33m\u001b[0m\u001b[1;33m\u001b[0m\u001b[0m\n\u001b[1;32m---> 78\u001b[1;33m         \u001b[0msleep\u001b[0m\u001b[1;33m(\u001b[0m\u001b[1;36m0.25\u001b[0m\u001b[1;33m)\u001b[0m\u001b[1;33m\u001b[0m\u001b[1;33m\u001b[0m\u001b[0m\n\u001b[0m\u001b[0;32m     79\u001b[0m     \u001b[0mfinal_list\u001b[0m \u001b[1;33m=\u001b[0m \u001b[0msorted\u001b[0m\u001b[1;33m(\u001b[0m\u001b[0mfinal_list\u001b[0m\u001b[1;33m.\u001b[0m\u001b[0mitems\u001b[0m\u001b[1;33m(\u001b[0m\u001b[1;33m)\u001b[0m\u001b[1;33m,\u001b[0m \u001b[0mkey\u001b[0m\u001b[1;33m=\u001b[0m\u001b[1;32mlambda\u001b[0m \u001b[0mx\u001b[0m\u001b[1;33m:\u001b[0m \u001b[1;33m(\u001b[0m\u001b[0mx\u001b[0m\u001b[1;33m[\u001b[0m\u001b[1;36m0\u001b[0m\u001b[1;33m]\u001b[0m\u001b[1;33m,\u001b[0m\u001b[0mx\u001b[0m\u001b[1;33m[\u001b[0m\u001b[1;36m1\u001b[0m\u001b[1;33m]\u001b[0m\u001b[1;33m)\u001b[0m\u001b[1;33m,\u001b[0m \u001b[0mreverse\u001b[0m \u001b[1;33m=\u001b[0m \u001b[1;32mTrue\u001b[0m\u001b[1;33m)\u001b[0m\u001b[1;33m\u001b[0m\u001b[1;33m\u001b[0m\u001b[0m\n\u001b[0;32m     80\u001b[0m     \u001b[1;32mreturn\u001b[0m \u001b[0mfinal_list\u001b[0m\u001b[1;33m\u001b[0m\u001b[1;33m\u001b[0m\u001b[0m\n",
      "\u001b[1;31mKeyboardInterrupt\u001b[0m: "
     ]
    }
   ],
   "source": [
    "print(FindClumps(Genome, k, L, t))"
   ]
  },
  {
   "cell_type": "code",
   "execution_count": null,
   "id": "e0592fb8",
   "metadata": {},
   "outputs": [],
   "source": []
  }
 ],
 "metadata": {
  "kernelspec": {
   "display_name": "Python 3 (ipykernel)",
   "language": "python",
   "name": "python3"
  },
  "language_info": {
   "codemirror_mode": {
    "name": "ipython",
    "version": 3
   },
   "file_extension": ".py",
   "mimetype": "text/x-python",
   "name": "python",
   "nbconvert_exporter": "python",
   "pygments_lexer": "ipython3",
   "version": "3.9.7"
  }
 },
 "nbformat": 4,
 "nbformat_minor": 5
}
