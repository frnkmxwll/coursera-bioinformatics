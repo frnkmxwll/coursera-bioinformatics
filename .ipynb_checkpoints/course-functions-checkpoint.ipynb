{
 "cells": [
  {
   "cell_type": "code",
   "execution_count": 1,
   "id": "db47498f",
   "metadata": {},
   "outputs": [
    {
     "name": "stdout",
     "output_type": "stream",
     "text": [
      "8\n"
     ]
    }
   ],
   "source": [
    "#Functions used in course\n",
    "#https://www.coursera.org/learn/bioinformatics/home/welcome\n",
    "\n",
    "### Part 1.2 funcion to count occurences of a pattern in given text.\n",
    "\n",
    "def PatternCount(Text, Pattern):\n",
    "    count = 0\n",
    "    for i in range(len(Text) - len(Pattern)+1):\n",
    "        if(Text[i:i+len(Pattern)] == Pattern):\n",
    "            count += 1\n",
    "    return count\n",
    "\n",
    "def FrequencyMap(Text, k):\n",
    "    freq = {}\n",
    "    n = len(Text)\n",
    "    for i in range (n-k+1):\n",
    "        Pattern = Text[i:i+k]\n",
    "        freq[Pattern] = PatternCount(Text, Pattern)\n",
    "    return freq\n",
    "\n",
    "def FrequentWords(Text, k):\n",
    "    words = []\n",
    "    freq = FrequencyMap(Text, k)\n",
    "    m = max(freq.values())\n",
    "    for key in freq:\n",
    "        if (freq[key]==m):\n",
    "            words.append(key)\n",
    "    return words\n",
    "\n",
    "def Reverse(Pattern):\n",
    "    rev = \"\"\n",
    "    for char in Pattern:\n",
    "        rev = char + rev\n",
    "    return rev\n",
    "\n",
    "def Complement(Pattern):\n",
    "    comp = \"\"\n",
    "    for char in Pattern:\n",
    "        if char == \"A\":\n",
    "            comp = comp + \"T\"\n",
    "        if char == \"T\":\n",
    "            comp = comp + \"A\"\n",
    "        if char == \"C\":\n",
    "            comp = comp + \"G\"\n",
    "        if char == \"G\":\n",
    "            comp = comp + \"C\"\n",
    "    return comp"
   ]
  }
 ],
 "metadata": {
  "kernelspec": {
   "display_name": "Python 3 (ipykernel)",
   "language": "python",
   "name": "python3"
  },
  "language_info": {
   "codemirror_mode": {
    "name": "ipython",
    "version": 3
   },
   "file_extension": ".py",
   "mimetype": "text/x-python",
   "name": "python",
   "nbconvert_exporter": "python",
   "pygments_lexer": "ipython3",
   "version": "3.9.7"
  }
 },
 "nbformat": 4,
 "nbformat_minor": 5
}
